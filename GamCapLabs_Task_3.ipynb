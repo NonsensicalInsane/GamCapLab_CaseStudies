{
 "cells": [
  {
   "attachments": {},
   "cell_type": "markdown",
   "metadata": {},
   "source": [
    "### **Task 3: Analyzing Ethereum Token Transfers via JSON-RPC API (Bonus task, give your best shot)**\n",
    "\n",
    "ERC-20 tokens form a significant part of the Ethereum ecosystem. Your task is to extract, analyze, and report data on recent ERC-20 token transfers via the JSON-RPC API.\n",
    "\n",
    "1. Interact with the Ethereum JSON-RPC API to extract data for the blocks between 17,000,000 and 17,005,000, focusing on **`logs`**, which represent events in Ethereum (and include ERC-20 token transfers).\n",
    "2. Using SQL, identify the top 10 ERC-20 tokens (by contract address) with the highest number of transfer events in these blocks.\n",
    "3. Write a Python script that identifies the top 10 addresses (across all ERC-20 tokens) that have received the most tokens in these blocks.\n",
    "4. Conduct an analysis on the frequency of transfer events for different tokens. Are there certain tokens that are more actively transferred than others? Write a Python script to analyze this and report your findings."
   ]
  },
  {
   "cell_type": "code",
   "execution_count": 3,
   "metadata": {},
   "outputs": [],
   "source": [
    "# Importing libraries\n",
    "\n",
    "import json\n",
    "import requests\n",
    "import pandas as pd\n",
    "from pandasql import sqldf"
   ]
  },
  {
   "cell_type": "code",
   "execution_count": null,
   "metadata": {},
   "outputs": [],
   "source": [
    "# Write a python script and interact with the Ethereum JSON-RPC API to extract data for the blocks between 17,000,000 and 17,005,000, focusing on **`logs`**, which represent events in Ethereum (and include ERC-20 token transfers). UrL = "
   ]
  }
 ],
 "metadata": {
  "kernelspec": {
   "display_name": "cv2",
   "language": "python",
   "name": "python3"
  },
  "language_info": {
   "codemirror_mode": {
    "name": "ipython",
    "version": 3
   },
   "file_extension": ".py",
   "mimetype": "text/x-python",
   "name": "python",
   "nbconvert_exporter": "python",
   "pygments_lexer": "ipython3",
   "version": "3.11.3"
  },
  "orig_nbformat": 4
 },
 "nbformat": 4,
 "nbformat_minor": 2
}
