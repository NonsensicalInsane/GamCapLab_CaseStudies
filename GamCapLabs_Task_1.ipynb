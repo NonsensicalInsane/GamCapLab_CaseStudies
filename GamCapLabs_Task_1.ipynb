{
 "cells": [
  {
   "attachments": {},
   "cell_type": "markdown",
   "metadata": {},
   "source": [
    "### **Task 1: Data Extraction and Initial Analysis**\n",
    "\n",
    "Instead of using Etherscan, you have been given access to an Ethereum node and are required to interact with it using Ethereum's JSON-RPC API.\n",
    "\n",
    "1. Write a Python script to call the JSON-RPC API and fetch data related to the blocks between 17,000,000 and 17,005,000. Save this data in JSON format.\n",
    "2. Using Python read the JSON data and convert it into a DataFrame. Carry out an initial exploratory data analysis on this DataFrame to answer the following questions:\n",
    "- What is the average gas price of the transactions?\n",
    "- What is the total amount of Ether transferred in these blocks?"
   ]
  },
  {
   "cell_type": "code",
   "execution_count": 43,
   "metadata": {},
   "outputs": [],
   "source": [
    "# Importing libraries\n",
    "import json\n",
    "import requests\n",
    "import pandas as pd"
   ]
  },
  {
   "cell_type": "code",
   "execution_count": 92,
   "metadata": {},
   "outputs": [],
   "source": [
    "def get_block_data(start_block, end_block):\n",
    "    # Your JSON-RPC endpoint URL\n",
    "    url = \"https://rpc.ankr.com/eth\"\n",
    "    block_data_list = []\n",
    "    for block_number in range(start_block, end_block):\n",
    "        # JSON-RPC request payload\n",
    "        payload = {\n",
    "            \"jsonrpc\": \"2.0\",\n",
    "            \"method\": \"eth_getBlockByNumber\",\n",
    "            \"params\": [hex(block_number), True],  # Block number and include transaction details\n",
    "            \"id\": 1\n",
    "        }\n",
    "\n",
    "        # Send the JSON-RPC request\n",
    "        response = requests.post(url, json=payload)\n",
    "        # Process the JSON-RPC response\n",
    "        if response.status_code == 200:\n",
    "            result = json.loads(response.text)\n",
    "            if \"result\" in result:\n",
    "                block_data = result[\"result\"]\n",
    "                block_data_list.append(block_data)\n",
    "                # Access other block properties as needed\n",
    "            else:\n",
    "                print(\"Error:\", result[\"error\"][\"message\"])\n",
    "        else:\n",
    "            print(\"Error:\", response.status_code, response.text)\n",
    "    # Save the JSON data to a file\n",
    "    with open(\"block_data.json\", \"w\") as file:\n",
    "        json.dump(block_data_list, file)\n",
    "    # Read the JSON data into a DataFrame\n",
    "    with open(\"block_data.json\", \"r\") as file:\n",
    "        data = json.load(file)\n",
    "        df = pd.DataFrame(data)\n",
    "    return df\n",
    "\n",
    "def total_ether_transferred(df):\n",
    "    sum = 0\n",
    "    for i in range(len(df[\"transactions\"])):\n",
    "        for j in range(len(df[\"transactions\"][i])):\n",
    "            sum += int(df['transactions'][i][j][\"value\"],16)\n",
    "    return sum\n",
    "def average_gas_price(df):\n",
    "    sum = 0\n",
    "    count = 0\n",
    "    for i in range(len(df[\"transactions\"])):\n",
    "        for j in range(len(df[\"transactions\"][i])):\n",
    "            sum += int(df['transactions'][i][j][\"gasPrice\"],16)\n",
    "            count += 1\n",
    "    return (sum/count)"
   ]
  },
  {
   "cell_type": "code",
   "execution_count": 35,
   "metadata": {},
   "outputs": [],
   "source": [
    "start_block = 17000000\n",
    "end_block = 17005000\n",
    "block_data = get_block_data(start_block, end_block)\n",
    "df = convert_to_dataframe(block_data)"
   ]
  },
  {
   "cell_type": "code",
   "execution_count": 139,
   "metadata": {},
   "outputs": [
    {
     "name": "stdout",
     "output_type": "stream",
     "text": [
      "The average gas price is:  23588011941.28349\n",
      "The total ether transferred is:  447016453318252883445205\n"
     ]
    }
   ],
   "source": [
    "print(\"The average gas price is: \", average_gas_price(df))\n",
    "print(\"The total ether transferred is: \", total_ether_transferred(df))"
   ]
  }
 ],
 "metadata": {
  "kernelspec": {
   "display_name": "cv2",
   "language": "python",
   "name": "python3"
  },
  "language_info": {
   "codemirror_mode": {
    "name": "ipython",
    "version": 3
   },
   "file_extension": ".py",
   "mimetype": "text/x-python",
   "name": "python",
   "nbconvert_exporter": "python",
   "pygments_lexer": "ipython3",
   "version": "3.11.3"
  },
  "orig_nbformat": 4
 },
 "nbformat": 4,
 "nbformat_minor": 2
}
